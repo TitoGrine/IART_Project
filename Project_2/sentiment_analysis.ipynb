{
 "cells": [
  {
   "cell_type": "code",
   "execution_count": 25,
   "metadata": {
    "collapsed": true,
    "pycharm": {
     "name": "#%%\n"
    }
   },
   "outputs": [],
   "source": [
    "import re\n",
    "from tweet import Tweet\n",
    "file =  open('datasets/dev.txt', 'r')\n",
    "dataset = file.read()\n",
    "splitted_data = re.split(\"[\\n|\\t]\", dataset)\n",
    "prepared_data = [splitted_data[i: i + 4] for i in range(0, len(splitted_data), 4)]\n",
    "prepared_data.pop(0)\n",
    "prepared_data.pop()\n",
    "\n",
    "data =  list(map(lambda x: Tweet(x[0], x[1], x[2], int(x[3].split(\":\")[0]), x[3].split(\":\")[1]), prepared_data))"
   ]
  },
  {
   "cell_type": "code",
   "execution_count": 26,
   "outputs": [
    {
     "data": {
      "text/plain": "<Figure size 432x288 with 1 Axes>",
      "image/png": "[encoded data removed]"
     },
     "metadata": {
      "needs_background": "light"
     },
     "output_type": "display_data"
    }
   ],
   "source": [
    "import numpy as np\n",
    "import matplotlib.pyplot as plt\n",
    "\n",
    "classes = {}\n",
    "for t in data:\n",
    "    classes[t.intensity] =  classes.get(t.intensity, 0) + 1\n",
    "\n",
    "objects = classes.keys()\n",
    "y_pos = np.arange(len(objects))\n",
    "values = classes.values()\n",
    "\n",
    "plt.bar(y_pos, values)\n",
    "plt.xticks(y_pos, objects)\n",
    "plt.ylabel('Occurrences')\n",
    "plt.show()"
   ],
   "metadata": {
    "collapsed": false,
    "pycharm": {
     "name": "#%%\n"
    }
   }
  }
 ],
 "metadata": {
  "kernelspec": {
   "name": "python3",
   "language": "python",
   "display_name": "Python 3"
  },
  "language_info": {
   "codemirror_mode": {
    "name": "ipython",
    "version": 2
   },
   "file_extension": ".py",
   "mimetype": "text/x-python",
   "name": "python",
   "nbconvert_exporter": "python",
   "pygments_lexer": "ipython2",
   "version": "2.7.6"
  }
 },
 "nbformat": 4,
 "nbformat_minor": 0
}