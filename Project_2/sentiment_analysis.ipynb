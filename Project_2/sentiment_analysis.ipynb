{
 "cells": [
  {
   "cell_type": "code",
   "execution_count": 12,
   "outputs": [],
   "source": [
    "import re\n",
    "from tweet import Tweet\n",
    "file =  open('datasets/dev.txt', 'r')\n",
    "dataset = file.read()\n",
    "splitted_data = re.split(\"[\\n|\\t]\", dataset)\n",
    "prepared_data = [splitted_data[i: i + 4] for i in range(0, len(splitted_data), 4)]\n",
    "prepared_data.pop(0)\n",
    "prepared_data.pop()\n",
    "\n",
    "data =  list(map(lambda x: Tweet(x[0], x[1], x[2], int(x[3].split(\":\")[0]), x[3].split(\":\")[1]), prepared_data))"
   ],
   "metadata": {
    "collapsed": false,
    "pycharm": {
     "name": "#%%\n"
    }
   }
  },
  {
   "cell_type": "code",
   "execution_count": 13,
   "metadata": {
    "pycharm": {
     "name": "#%%\n"
    }
   },
   "outputs": [
    {
     "data": {
      "text/plain": "<Figure size 432x288 with 1 Axes>",
      "image/png": "[encoded data removed]"
     },
     "metadata": {
      "needs_background": "light"
     },
     "output_type": "display_data"
    }
   ],
   "source": [
    "import numpy as np\n",
    "import matplotlib.pyplot as plt\n",
    "\n",
    "classes = {}\n",
    "for t in data:\n",
    "    classes[t.intensity] =  classes.get(t.intensity, 0) + 1\n",
    "\n",
    "objects = sorted(classes.keys())\n",
    "y_pos = np.arange(len(objects))\n",
    "values = list(map(lambda key: classes[key], objects))\n",
    "\n",
    "plt.bar(y_pos, values)\n",
    "plt.xticks(y_pos, objects)\n",
    "plt.ylabel('Occurrences')\n",
    "plt.tight_layout(0.4)\n",
    "plt.savefig('intensity_analysis.png')\n",
    "plt.show()"
   ]
  },
  {
   "cell_type": "code",
   "execution_count": null,
   "metadata": {
    "pycharm": {
     "name": "#%%\n",
     "is_executing": true
    }
   },
   "outputs": [],
   "source": [
    "from sklearn.feature_extraction.text import TfidfVectorizer\n",
    "corpus = map(lambda x: x.tweet, data)\n",
    "\n",
    "tfidf_vectorizer = TfidfVectorizer()\n",
    "tfidf_vectorizer_vectors = tfidf_vectorizer.fit_transform(corpus)\n",
    "\n",
    "tfidf_mean = tfidf_vectorizer_vectors.mean(axis=0).tolist()[0]\n",
    "\n",
    "# get the first vector out (for the first document)\n",
    "\n",
    "# place tf-idf values in a pandas data frame\n",
    "plt.figure(figsize=(10,4))\n",
    "plt.scatter(tfidf_vectorizer.get_feature_names(), tfidf_mean, s=5)\n",
    "plt.ylabel('TF-IDF Value')\n",
    "plt.savefig('tf_idf.png')\n",
    "plt.show()"
   ]
  },
  {
   "cell_type": "code",
   "execution_count": null,
   "metadata": {
    "pycharm": {
     "name": "#%%\n",
     "is_executing": true
    }
   },
   "outputs": [],
   "source": [
    "from sklearn.feature_extraction.text import CountVectorizer\n",
    "from wordcloud import WordCloud, STOPWORDS\n",
    "\n",
    "corpus = map(lambda x: x.tweet, data)\n",
    "count_vectorizer = CountVectorizer()\n",
    "count_vectorizer_vectors = count_vectorizer.fit_transform(corpus)\n",
    "word_count = count_vectorizer_vectors.sum(axis=0).tolist()[0]\n",
    "\n",
    "features = count_vectorizer.get_feature_names()\n",
    "cloud_words = \"\"\n",
    "for i in range(0, len(word_count)):\n",
    "    for _ in range(0, word_count[i]):\n",
    "        cloud_words += features[i] + \" \"\n",
    "\n",
    "wordcloud = WordCloud(width=1280, height=920, background_color='white', stopwords=STOPWORDS, collocations=False).generate(cloud_words)\n",
    "\n",
    "plt.figure(figsize=(8, 8))\n",
    "plt.imshow(wordcloud)\n",
    "plt.axis(\"off\")\n",
    "plt.tight_layout(pad=0)\n",
    "plt.savefig('wordcloud.png')\n",
    "plt.show()"
   ]
  },
  {
   "cell_type": "code",
   "execution_count": null,
   "outputs": [],
   "source": [
    "\n",
    "\n"
   ],
   "metadata": {
    "collapsed": false,
    "pycharm": {
     "name": "#%%\n"
    }
   }
  }
 ],
 "metadata": {
  "kernelspec": {
   "display_name": "PyCharm (Project_2)",
   "language": "python",
   "name": "pycharm-8b3719b3"
  },
  "language_info": {
   "codemirror_mode": {
    "name": "ipython",
    "version": 3
   },
   "file_extension": ".py",
   "mimetype": "text/x-python",
   "name": "python",
   "nbconvert_exporter": "python",
   "pygments_lexer": "ipython3",
   "version": "3.8.2"
  }
 },
 "nbformat": 4,
 "nbformat_minor": 1
}